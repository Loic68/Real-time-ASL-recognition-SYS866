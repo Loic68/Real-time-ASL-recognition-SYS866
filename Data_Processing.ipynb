{
 "cells": [
  {
   "cell_type": "markdown",
   "metadata": {
    "collapsed": true,
    "pycharm": {
     "is_executing": false,
     "name": "#%% md\n"
    }
   },
   "source": [
    "### Data processing scripts\n",
    "Includes functions for image padding, data augmentation and undersampling\n",
    "\n",
    "by Loic Baum"
   ]
  },
  {
   "cell_type": "code",
   "execution_count": null,
   "outputs": [],
   "source": [
    "import cv2\n",
    "import os\n",
    "import imgaug.augmenters as iaa\n",
    "import matplotlib.pyplot as plt\n",
    "%matplotlib inline"
   ],
   "metadata": {
    "collapsed": false,
    "pycharm": {
     "name": "#%%\n"
    }
   }
  },
  {
   "cell_type": "markdown",
   "source": [
    "### Augmenting Data from Test Dataset\n",
    "This dataset is quite interesting because all the images have various backgrounds.\n",
    "The problem is that the dataset only contains 870. \n",
    "We will use data augmentation to have more data to train on"
   ],
   "metadata": {
    "collapsed": false,
    "pycharm": {
     "name": "#%% md\n",
     "is_executing": false
    }
   }
  },
  {
   "cell_type": "code",
   "execution_count": null,
   "outputs": [],
   "source": [
    "def augment_images_from_dir(directory,output_directory,nb_data_aug):\n",
    "    aug = iaa.SomeOf(3, [\n",
    "    iaa.Rotate((-10,10)),\n",
    "    iaa.MultiplyBrightness((0.70, 1.30)),\n",
    "    iaa.Crop(percent=(0, 0.10)),\n",
    "    iaa.TranslateX(percent=(-0.1,0.1)),\n",
    "    iaa.TranslateY(percent=(-0.1,0.1)),\n",
    "    iaa.ShearX((-10,10)),\n",
    "    iaa.ShearY((-10,10)),\n",
    "    iaa.AdditiveGaussianNoise(scale=(0,10))])\n",
    "    \n",
    "    uniq_labels = sorted(os.listdir(directory))\n",
    "    for idx, label in enumerate(uniq_labels): #going through the labels folders\n",
    "        print(\"|\",label,\"|\",end=\"\")\n",
    "        for file in os.listdir(directory + \"/\" + label):\n",
    "            filepath = directory + \"/\" + label + \"/\" + file\n",
    "            image = cv2.imread(filepath)\n",
    "            for i in range(nb_data_aug):\n",
    "                img_aug = aug(image=image)\n",
    "                cv2.imwrite(output_directory+\"/\"+label+\"/aug_\"+str(i)+\"_\"+file,img_aug)\n",
    "\n",
    "input_test_dir = \"./asl-alphabet-test/asl-alphabet-test\"\n",
    "output_dir = \"././asl-alphabet-augmented-balanced/\"\n",
    "\n",
    "augment_images_from_dir(input_test_dir,output_dir,40)"
   ],
   "metadata": {
    "collapsed": false,
    "pycharm": {
     "name": "#%%\n"
    }
   }
  },
  {
   "cell_type": "markdown",
   "source": [
    "### Training set undersampling\n",
    "The initial training set is very large (87 000 images), but all the images were extracted from a video\n",
    "so the picture are very similar. In order to have a balanced dataset between images with background\n",
    "and images without background, we will undersample the initial training set to 1/3 of its size."
   ],
   "metadata": {
    "collapsed": false
   }
  },
  {
   "cell_type": "code",
   "execution_count": 9,
   "outputs": [
    {
     "name": "stdout",
     "text": [
      "Undersampling Folder :| A || B || C || D || E || F || G || H || I || J || K || L || M || N || O || P || Q || R || S || T || U || V || W || X || Y || Z || del || nothing || space |"
     ],
     "output_type": "stream"
    }
   ],
   "source": [
    "def undersample_dataset(input_directory, output_directory):\n",
    "    cnt=0\n",
    "    uniq_labels = sorted(os.listdir(input_directory))\n",
    "    print(\"Undersampling Folder :\",end=\"\")\n",
    "    for idx, label in enumerate(uniq_labels): #going through the labels folders\n",
    "        print(\"|\",label,\"|\",end=\"\")\n",
    "        for file in os.listdir(input_directory + \"/\" + label):\n",
    "            cnt+=1\n",
    "            if(cnt==3):\n",
    "                filepath = input_directory + \"/\" + label + \"/\" + file\n",
    "                image = cv2.imread(filepath)\n",
    "                cv2.imwrite(output_directory+\"/\"+label+\"/_us_\"+file ,image)\n",
    "                cnt=0\n",
    "\n",
    "\n",
    "input_train_dir = \"./asl-alphabet/asl_alphabet_train/asl_alphabet_train\"\n",
    "\n",
    "undersample_dataset(input_train_dir,output_dir)\n",
    "    "
   ],
   "metadata": {
    "collapsed": false,
    "pycharm": {
     "name": "#%%\n",
     "is_executing": false
    }
   }
  },
  {
   "cell_type": "markdown",
   "source": [
    "### Process image from Surrey Dataset :\n",
    "Images need to be resized to 64x64, but most of the images have a rectangular shape (ex 70x120)\n",
    "To avoid distortion, we will add padding to the images to have a square size (ex : 120x120) and then we will resize them to 64x64"
   ],
   "metadata": {
    "collapsed": false,
    "pycharm": {
     "name": "#%% md\n"
    }
   }
  },
  {
   "cell_type": "code",
   "execution_count": 2,
   "outputs": [
    {
     "name": "stdout",
     "text": [
      "Folder : A\n",
      "| a || b || c || d || e || f || g || h || i || k || l || m || n || o || p || q || r || s || t || u || v || w || x || y |Folder : B\n",
      "| a || b || c || d || e || f || g || h || i || k || l || m || n || o || p || q || r || s || t || u || v || w || x || y |Folder : C\n",
      "| a || b || c || d || e || f || g || h || i || k || l || m || n || o || p || q || r || s || t || u || v || w || x || y |Folder : D\n",
      "| a || b || c || d || e || f || g || h || i || k || l || m || n || o || p || q || r || s || t || u || v || w || x || y |Folder : E\n",
      "| a || b || c || d || e || f || g || h || i || k || l || m || n || o || p || q || r || s || t || u || v || w || x || y |"
     ],
     "output_type": "stream"
    }
   ],
   "source": [
    "import glob\n",
    "\n",
    "def pad_and_resize_dataset(input_directory, output_directory, img_size):\n",
    "    folder_list = sorted(os.listdir(input_directory))\n",
    "    for i,folder in enumerate(folder_list): #going through the 5 folders of the dataset  \n",
    "        print(\"Folder :\", folder)\n",
    "        label_list = sorted(os.listdir(input_directory+'/'+folder))\n",
    "        for j,label in enumerate(label_list): #going through the labels folders\n",
    "            print(\"|\",label,\"|\",end=\"\")\n",
    "            for k,file in enumerate(glob.glob(input_directory+ \"/\" +folder+'/'+ label +'/'+'color_*.png')):\n",
    "                image = cv2.imread(file)\n",
    "                #get height and witdh of read image\n",
    "                h = image.shape[0]\n",
    "                w = image.shape[1]\n",
    "                if h>w:\n",
    "                    border_size = int((h-w)/2)\n",
    "                    image = cv2.copyMakeBorder(image,0,0,border_size, border_size,cv2.BORDER_CONSTANT)\n",
    "                elif w>h:\n",
    "                    border_size = int((w-h)/2)                    \n",
    "                    image = cv2.copyMakeBorder(image, border_size, border_size, 0, 0,cv2.BORDER_CONSTANT)\n",
    "                #images have now a square shape, we can resize them without squeezing them\n",
    "                image = cv2.resize(image, img_size)\n",
    "                #write image to new folder\n",
    "                cv2.imwrite(output_directory+\"/\"+str(label).capitalize()+\"/\"+str(i)+'_'+str(k)+'.png', image)\n",
    "        \n",
    "pad_and_resize_dataset('../dataset5','./asl-surrey-black-padding',(64,64))          \n"
   ],
   "metadata": {
    "collapsed": false,
    "pycharm": {
     "name": "#%%\n",
     "is_executing": false
    }
   }
  }
 ],
 "metadata": {
  "kernelspec": {
   "display_name": "Python 3",
   "language": "python",
   "name": "python3"
  },
  "language_info": {
   "codemirror_mode": {
    "name": "ipython",
    "version": 2
   },
   "file_extension": ".py",
   "mimetype": "text/x-python",
   "name": "python",
   "nbconvert_exporter": "python",
   "pygments_lexer": "ipython2",
   "version": "2.7.6"
  },
  "pycharm": {
   "stem_cell": {
    "cell_type": "raw",
    "source": [],
    "metadata": {
     "collapsed": false
    }
   }
  }
 },
 "nbformat": 4,
 "nbformat_minor": 0
}