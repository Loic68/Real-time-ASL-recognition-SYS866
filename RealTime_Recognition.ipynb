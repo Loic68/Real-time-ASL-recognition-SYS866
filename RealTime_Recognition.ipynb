{
 "cells": [
  {
   "cell_type": "markdown",
   "metadata": {
    "collapsed": true,
    "pycharm": {
     "is_executing": false,
     "name": "#%% md\n"
    }
   },
   "source": [
    "### Real Time ASL Fingerspelling\n",
    "by Loic Baum"
   ]
  },
  {
   "cell_type": "code",
   "execution_count": null,
   "outputs": [],
   "source": [
    "import keras.models\n",
    "from keras.models import load_model\n",
    "import cv2\n",
    "import numpy as np"
   ],
   "metadata": {
    "collapsed": false,
    "pycharm": {
     "name": "#%% \n"
    }
   }
  },
  {
   "cell_type": "code",
   "execution_count": null,
   "outputs": [],
   "source": [
    "#Loading model saved on disk\n",
    "def load_model_from_disk(MODEL_PATH, MODEL_WEIGHTS_PATH):\n",
    "    '''A convenience method for re-running certain parts of the\n",
    "    analysis locally without refitting all the data.'''   \n",
    "    print('Retrieving model from disk...')\n",
    "    model = load_model(MODEL_PATH)           \n",
    "    print('Loading CNN model weights from disk...')\n",
    "    model.load_weights(MODEL_WEIGHTS_PATH)\n",
    "    return model\n",
    "  \n",
    "model_file = \"./saved_nets_weights/cnn-model-vgg.h5\"  \n",
    "weights_file = \"./saved_nets_weights/cnn-model-vgg.weights.h5\"\n",
    "\n",
    "model =  load_model_from_disk(model_file,weights_file)\n",
    "model.summary()"
   ],
   "metadata": {
    "collapsed": false,
    "pycharm": {
     "name": "#%%\n"
    }
   }
  },
  {
   "cell_type": "markdown",
   "source": [
    "### ASL Alphabet\n",
    "<img src=\"https://www.nidcd.nih.gov/sites/default/files/Content%20Images/NIDCD-ASL-hands-2014.jpg\" alt='\"ASL\" spelled out in American Sign Language fingerspelling' style=\"width: 300px;\"/>"
   ],
   "metadata": {
    "collapsed": false
   }
  },
  {
   "cell_type": "code",
   "execution_count": 4,
   "outputs": [],
   "source": [
    "map_characters = {0: 'A', 1: 'B', 2: 'C', 3: 'D', 4: 'E', 5: 'F', 6: 'G', 7: 'H', 8: 'I', 9: 'J', 10: 'K', 11: 'L', 12: 'M', 13: 'N', 14: 'O', 15: 'P', 16: 'Q', 17: 'R', 18: 'S', 19: 'T', 20: 'U', 21: 'V', 22: 'W', 23: 'X', 24: 'Y', 25: 'Z', 26: 'del', 27: 'nothing', 28: 'space', 29: 'other'}\n",
    "# map_characters = {0: 'A', 1: 'B', 2: 'C', 3: 'D', 4: 'E', 5: 'F', 6: 'G', 7: 'H', 8: 'I',  9: 'K', 10: 'L', 11: 'M', 12: 'N', 13: 'O', 14: 'P', 15: 'Q', 16: 'R', 17: 'S', 18: 'T', 19: 'U', 20: 'V', 21: 'W', 22: 'X', 23: 'Y'}\n",
    "\n",
    "cap = cv2.VideoCapture(0)\n",
    "\n",
    "last_pred = 'A'\n",
    "smoothed_pred = 'A'\n",
    "pred_cnt = 0\n",
    "\n",
    "while True:\n",
    "    ret, frame = cap.read()\n",
    "    frame = frame[0:480, 100:580] #Cropping (480x720 to 480x480)\n",
    "    frame_resized = cv2.resize(frame,(64,64)) #resizing and keeping aspect_ratio\n",
    "    frame_resized = frame_resized.astype('float32')/255.0\n",
    "\n",
    "    prediction = model.predict(frame_resized.reshape(1,64,64,3))\n",
    "    y_pred = map_characters[int(np.argmax(prediction, axis=1))]\n",
    "    #Smoothing prediction\n",
    "    if y_pred == last_pred:\n",
    "        pred_cnt +=1\n",
    "    else:\n",
    "        last_pred = y_pred\n",
    "        pred_cnt = 0    \n",
    "    if  pred_cnt >= 5:\n",
    "        smoothed_pred = y_pred\n",
    "        \n",
    "    cv2.putText(frame, smoothed_pred, (10, 50), cv2.FONT_HERSHEY_SIMPLEX, 2, (255, 0, 0), 5)\n",
    "    cv2.imshow(\"frame\",frame)\n",
    "\n",
    "    if cv2.waitKey(1) & 0xFF == ord('q'):\n",
    "        break\n",
    "cap.release()\n",
    "cv2.destroyAllWindows()"
   ],
   "metadata": {
    "collapsed": false,
    "pycharm": {
     "name": "#%%\n",
     "is_executing": false
    }
   }
  }
 ],
 "metadata": {
  "kernelspec": {
   "display_name": "Python 3",
   "language": "python",
   "name": "python3"
  },
  "language_info": {
   "codemirror_mode": {
    "name": "ipython",
    "version": 2
   },
   "file_extension": ".py",
   "mimetype": "text/x-python",
   "name": "python",
   "nbconvert_exporter": "python",
   "pygments_lexer": "ipython2",
   "version": "2.7.6"
  },
  "pycharm": {
   "stem_cell": {
    "cell_type": "raw",
    "source": [],
    "metadata": {
     "collapsed": false
    }
   }
  }
 },
 "nbformat": 4,
 "nbformat_minor": 0
}